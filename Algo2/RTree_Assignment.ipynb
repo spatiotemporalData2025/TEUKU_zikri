{
 "cells": [
  {
   "cell_type": "markdown",
   "metadata": {},
   "source": [
    "# 🌳 R-Tree: A Dynamic Index Structure for Spatial Searching\n",
    "### by Antonin Guttman & Michael Stonebraker (1983)\n",
    "\n",
    "This notebook summarizes and demonstrates the concept of **R-Tree**,\n",
    "a spatial data indexing structure proposed in the original paper.\n",
    "\n",
    "---\n",
    "## 📘 1. Background\n",
    "\n",
    "- **B-Tree / B+Tree** works efficiently for *1D* data (e.g. numbers, strings).\n",
    "- However, for *multi-dimensional* or *spatial* data (points, rectangles, regions),\n",
    "  these trees perform poorly.\n",
    "\n",
    "**R-Tree** was designed to efficiently store and search objects in 2D or 3D space\n",
    "using *hierarchical bounding rectangles (MBR — Minimum Bounding Rectangle)*.\n",
    "\n",
    "---\n",
    "## 🧩 2. Concept of R-Tree\n",
    "\n",
    "Each node in an R-Tree contains several rectangles (MBRs). Each rectangle\n",
    "represents either:\n",
    "- A group of objects (for internal nodes), or\n",
    "- A single object (for leaf nodes).\n",
    "\n",
    "### Example structure:\n",
    "\n",
    "```\n",
    "Root\n",
    " ├── Node A → covers objects [1, 2, 3]\n",
    " └── Node B → covers objects [4, 5]\n",
    "```\n",
    "\n",
    "The search, insert, and delete operations rely on geometric overlap checks.\n",
    "\n",
    "---\n",
    "## ⚙️ 3. Simple Python Implementation"
   ]
  },
  {
   "cell_type": "code",
   "execution_count": null,
   "metadata": {},
   "outputs": [],
   "source": [
    "import matplotlib.pyplot as plt\n",
    "import matplotlib.patches as patches\n",
    "\n",
    "class Rectangle:\n",
    "    def __init__(self, x1, y1, x2, y2):\n",
    "        self.x1, self.y1, self.x2, self.y2 = x1, y1, x2, y2\n",
    "    \n",
    "    def area(self):\n",
    "        return (self.x2 - self.x1) * (self.y2 - self.y1)\n",
    "    \n",
    "    def overlaps(self, other):\n",
    "        return not (self.x2 < other.x1 or self.x1 > other.x2 or \n",
    "                    self.y2 < other.y1 or self.y1 > other.y2)\n",
    "\n",
    "    def expand_to_include(self, other):\n",
    "        self.x1 = min(self.x1, other.x1)\n",
    "        self.y1 = min(self.y1, other.y1)\n",
    "        self.x2 = max(self.x2, other.x2)\n",
    "        self.y2 = max(self.y2, other.y2)\n",
    "\n",
    "    def __repr__(self):\n",
    "        return f\"Rect(({self.x1},{self.y1}),({self.x2},{self.y2}))\""
   ]
  },
  {
   "cell_type": "markdown",
   "metadata": {},
   "source": [
    "### Basic Node definition for R-Tree"
   ]
  },
  {
   "cell_type": "code",
   "execution_count": null,
   "metadata": {},
   "outputs": [],
   "source": [
    "class RTreeNode:\n",
    "    def __init__(self, max_children=3, leaf=True):\n",
    "        self.children = []\n",
    "        self.rectangles = []\n",
    "        self.max_children = max_children\n",
    "        self.leaf = leaf\n",
    "        self.mbr = None\n",
    "\n",
    "    def update_mbr(self):\n",
    "        if not self.rectangles:\n",
    "            return None\n",
    "        mbr = Rectangle(self.rectangles[0].x1, self.rectangles[0].y1, self.rectangles[0].x2, self.rectangles[0].y2)\n",
    "        for rect in self.rectangles[1:]:\n",
    "            mbr.expand_to_include(rect)\n",
    "        self.mbr = mbr\n",
    "        return mbr"
   ]
  },
  {
   "cell_type": "markdown",
   "metadata": {},
   "source": [
    "### Simple visualization of rectangles"
   ]
  },
  {
   "cell_type": "code",
   "execution_count": null,
   "metadata": {},
   "outputs": [
    {
     "ename": "",
     "evalue": "",
     "output_type": "error",
     "traceback": [
      "\u001b[1;31mRunning cells with 'Python 3.12.10' requires the ipykernel package.\n",
      "\u001b[1;31m<a href='command:jupyter.createPythonEnvAndSelectController'>Create a Python Environment</a> with the required packages.\n",
      "\u001b[1;31mOr install 'ipykernel' using the command: 'c:/Users/HP/AppData/Local/Programs/Python/Python312/python.exe -m pip install ipykernel -U --user --force-reinstall'"
     ]
    }
   ],
   "source": [
    "def draw_rectangles(rects, color='blue'):\n",
    "    fig, ax = plt.subplots(figsize=(5,5))\n",
    "    for r in rects:\n",
    "        ax.add_patch(patches.Rectangle((r.x1, r.y1), r.x2 - r.x1, r.y2 - r.y1,\n",
    "                                       fill=False, edgecolor=color, lw=2))\n",
    "    plt.xlim(0, 10)\n",
    "    plt.ylim(0, 10)\n",
    "    plt.title('Example of Bounding Rectangles (MBRs)')\n",
    "    plt.show()\n",
    "\n",
    "# Example rectangles\n",
    "rects = [Rectangle(1,1,3,4), Rectangle(2,2,5,5), Rectangle(6,6,8,8)]\n",
    "draw_rectangles(rects)"
   ]
  },
  {
   "cell_type": "markdown",
   "metadata": {},
   "source": [
    "---\n",
    "## 🆚 4. Comparison: R-Tree vs B-Tree\n",
    "\n",
    "| Feature | **B-Tree** | **R-Tree** |\n",
    "|----------|-------------|-------------|\n",
    "| Target Data | 1D (numbers, keys) | 2D/3D (spatial objects) |\n",
    "| Node content | Keys and pointers | Bounding boxes (MBRs) and child pointers |\n",
    "| Search type | Exact match, range | Area, overlap, containment |\n",
    "| Visualization | Linear hierarchy | Spatial hierarchy |\n",
    "| Use cases | Database indexing | GIS, CAD, robotics, spatial DB |\n",
    "\n",
    "---\n",
    "## 🧠 5. Key Takeaways\n",
    "\n",
    "- R-Tree generalizes the B-Tree to multi-dimensional space.\n",
    "- Each node stores bounding rectangles that may overlap.\n",
    "- Efficient for dynamic insertion/deletion of spatial data.\n",
    "- Foundation for many variants: R*-Tree, R+-Tree, Hilbert R-Tree.\n",
    "\n",
    "---\n",
    "## ✅ 6. References\n",
    "- Guttman, A. (1983). *R-Trees: A Dynamic Index Structure for Spatial Searching.* ACM SIGMOD.\n",
    "- https://www.drawio.com/\n",
    "\n",
    "---\n",
    "### ✍️ Short Assignment Summary (for README)\n",
    "\n",
    "In this exercise, we studied the original R-Tree paper and implemented a simplified visualization.\n",
    "We compared it to B-Tree and discussed how spatial indexing enables efficient multi-dimensional searches.\n",
    "\n",
    "**Deadline:** End of today’s lecture."
   ]
  }
 ],
 "metadata": {
  "kernelspec": {
   "display_name": "Python 3",
   "language": "python",
   "name": "python3"
  },
  "language_info": {
   "name": "python",
   "version": "3.12.10"
  }
 },
 "nbformat": 4,
 "nbformat_minor": 2
}
