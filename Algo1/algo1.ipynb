{
 "cells": [
  {
   "cell_type": "markdown",
   "id": "35e0c0d9",
   "metadata": {},
   "source": []
  },
  {
   "cell_type": "markdown",
   "id": "15990eb3",
   "metadata": {},
   "source": [
    "Algorithm 3.1\n",
    "\n",
    "This algorithm uses a simple counting approach.\n",
    "\n",
    "we keep track of frequently appearing elements.\n",
    "when the memory (set t) is full, we decrease the counter of all elements and remove those that reach zero.\n",
    "this approach keeps only elements that appear often but it may fluctuate when new data appears rapidly."
   ]
  },
  {
   "cell_type": "code",
   "execution_count": null,
   "id": "a3459d2c",
   "metadata": {},
   "outputs": [],
   "source": [
    "def algorithm_3_1(sequence, k):\n",
    "    n = 0\n",
    "    T = set()\n",
    "    c = {}\n",
    "    for i in sequence:\n",
    "        n += 1\n",
    "        if i in T:\n",
    "            c[i] += 1\n",
    "        elif len(T) < k - 1:\n",
    "            T.add(i)\n",
    "            c[i] = 1\n",
    "        else:\n",
    "            for j in list(T):\n",
    "                c[j] -= 1\n",
    "                if c[j] == 0:\n",
    "                    T.remove(j)\n",
    "                    del c[j]\n",
    "    return T, c  "
   ]
  },
  {
   "cell_type": "markdown",
   "id": "c068b323",
   "metadata": {},
   "source": [
    "Algorithm 3.2\n",
    "\n",
    "This algorithm use a time threshold delta to normalize data over time.\n",
    "\n",
    "\n",
    "every time the sequence progresses, the algorithm updates delta and removes elements whose count is lower than delta.\n",
    "this makes the algorithm more stable and adaptive as time goes on."
   ]
  },
  {
   "cell_type": "code",
   "execution_count": null,
   "id": "44b09b8e",
   "metadata": {},
   "outputs": [],
   "source": [
    "def algorithm_3_2(sequence, k):\n",
    "    n = 0\n",
    "    Δ = 0\n",
    "    T = set()\n",
    "    c = {}\n",
    "    for i in sequence:\n",
    "        n += 1\n",
    "        if i in T:\n",
    "            c[i] += 1\n",
    "        else:\n",
    "            T.add(i)\n",
    "            c[i] = 1 + Δ\n",
    "\n",
    "        if n // k != Δ:\n",
    "            Δ = n // k\n",
    "            for j in list(T):\n",
    "                if c[j] < Δ:\n",
    "                    T.remove(j)\n",
    "                    del c[j]\n",
    "    return T, c"
   ]
  },
  {
   "cell_type": "markdown",
   "id": "3fbf970a",
   "metadata": {},
   "source": [
    "\n",
    "Algorithm 3.3\n",
    "\n",
    "The main idea is to replace the element that appears the least frequently.\n",
    "\n",
    "when our list is full and a new element appears, we find the one with the smallest counter and replace it."
   ]
  },
  {
   "cell_type": "code",
   "execution_count": null,
   "id": "07a0b9b3",
   "metadata": {},
   "outputs": [],
   "source": [
    "def algorithm_3_3(sequence, k):\n",
    "    n = 0\n",
    "    T = set()\n",
    "    c = {}\n",
    "    for i in sequence:\n",
    "        n += 1\n",
    "        if i in T:\n",
    "            c[i] += 1\n",
    "        elif len(T) < k:\n",
    "            T.add(i)\n",
    "            c[i] = 1\n",
    "        else:\n",
    "            j = min(T, key=lambda x: c[x])\n",
    "            T.remove(j)\n",
    "            del c[j]\n",
    "            T.add(i)\n",
    "            c[i] = 1\n",
    "    return T, c"
   ]
  },
  {
   "cell_type": "markdown",
   "id": "7de77626",
   "metadata": {},
   "source": [
    "\n",
    "Test data by random city names in japan"
   ]
  },
  {
   "cell_type": "code",
   "execution_count": null,
   "id": "9ecc421b",
   "metadata": {},
   "outputs": [],
   "source": [
    "city_sequence = [\n",
    "    \"Tokyo\", \"Kyoto\", \"Osaka\", \"Tokyo\", \"Nagoya\", \"Osaka\", \"Tokyo\",\n",
    "    \"Kyoto\", \"Shizuoka\", \"Kyoto\", \"Osaka\", \"Tokyo\", \"Kobe\", \"Tokyo\",\n",
    "    \"Kyoto\", \"Tokyo\", \"Hiroshima\", \"Osaka\", \"Tokyo\", \"Kyoto\", \"Sendai\",\n",
    "    \"Tokyo\", \"Tokyo\", \"Osaka\", \"Kyoto\", \"Nagoya\", \"Tokyo\", \"Kyoto\",\n",
    "    \"Tokyo\", \"Osaka\", \"Tokyo\", \"Kyoto\", \"Tokyo\", \"Tokyo\", \"Osaka\",\n",
    "    \"Kyoto\", \"Tokyo\", \"Nagoya\", \"Tokyo\", \"Kyoto\", \"Osaka\", \"Tokyo\",\n",
    "    \"Fukuoka\", \"Tokyo\", \"Kyoto\", \"Tokyo\", \"Sapporo\", \"Kyoto\", \"Osaka\",\n",
    "    \"Tokyo\", \"Kyoto\", \"Tokyo\", \"Osaka\", \"Kyoto\", \"Tokyo\", \"Nagoya\",\n",
    "    \"Tokyo\", \"Kyoto\", \"Osaka\", \"Tokyo\", \"Tokyo\", \"Kyoto\", \"Tokyo\",\n",
    "    \"Tokyo\", \"Osaka\", \"Tokyo\", \"Kyoto\"\n",
    "]"
   ]
  },
  {
   "cell_type": "markdown",
   "id": "a7ac7764",
   "metadata": {},
   "source": [
    "max capacity is represented by k"
   ]
  },
  {
   "cell_type": "code",
   "execution_count": null,
   "id": "08cd3f57",
   "metadata": {},
   "outputs": [],
   "source": [
    "k = 3 "
   ]
  },
  {
   "cell_type": "markdown",
   "id": "42abb2a1",
   "metadata": {},
   "source": [
    "\n",
    "Run and show results"
   ]
  },
  {
   "cell_type": "code",
   "execution_count": null,
   "id": "568a79ba",
   "metadata": {},
   "outputs": [],
   "source": [
    "\n",
    "print(\"Total data:\", len(city_sequence))\n",
    "print(\"Unique cities:\", len(set(city_sequence)))\n",
    "print(\"=\" * 60)\n",
    "\n",
    "result1 = algorithm_3_1(city_sequence, k)\n",
    "result2 = algorithm_3_2(city_sequence, k)\n",
    "result3 = algorithm_3_3(city_sequence, k)\n",
    "\n",
    "print(\"Algorithm 3.1 result:\", result1)\n",
    "print(\"Algorithm 3.2 result:\", result2)\n",
    "print(\"Algorithm 3.3 result:\", result3)"
   ]
  },
  {
   "cell_type": "markdown",
   "id": "7c3929a4",
   "metadata": {},
   "source": [
    "\n",
    "the result be seen as below\n",
    "\n",
    "\n",
    "![execution result](image_1.png)"
   ]
  }
 ],
 "metadata": {
  "kernelspec": {
   "display_name": "Python 3",
   "language": "python",
   "name": "python3"
  },
  "language_info": {
   "name": "python",
   "version": "3.12.10"
  }
 },
 "nbformat": 4,
 "nbformat_minor": 5
}
